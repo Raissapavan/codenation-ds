{
 "cells": [
  {
   "cell_type": "markdown",
   "metadata": {},
   "source": [
    "# Desafio 6\n",
    "\n",
    "Neste desafio, vamos praticar _feature engineering_, um dos processos mais importantes e trabalhosos de ML. Utilizaremos o _data set_ [Countries of the world](https://www.kaggle.com/fernandol/countries-of-the-world), que contém dados sobre os 227 países do mundo com informações sobre tamanho da população, área, imigração e setores de produção.\n",
    "\n",
    "> Obs.: Por favor, não modifique o nome das funções de resposta."
   ]
  },
  {
   "cell_type": "markdown",
   "metadata": {},
   "source": [
    "## _Setup_ geral"
   ]
  },
  {
   "cell_type": "code",
   "execution_count": 1,
   "metadata": {},
   "outputs": [],
   "source": [
    "import pandas as pd\n",
    "import numpy as np\n",
    "import seaborn as sns\n",
    "import sklearn as sk\n",
    "import matplotlib.pyplot as plt"
   ]
  },
  {
   "cell_type": "code",
   "execution_count": 2,
   "metadata": {},
   "outputs": [],
   "source": [
    "# Algumas configurações para o matplotlib.\n",
    "#%matplotlib inline\n",
    "\n",
    "from IPython.core.pylabtools import figsize\n",
    "\n",
    "\n",
    "figsize(10,5)\n",
    "\n",
    "sns.set()"
   ]
  },
  {
   "cell_type": "code",
   "execution_count": 3,
   "metadata": {
    "scrolled": false
   },
   "outputs": [],
   "source": [
    "countries = pd.read_csv(\"countries.csv\", decimal=',')"
   ]
  },
  {
   "cell_type": "code",
   "execution_count": 4,
   "metadata": {},
   "outputs": [
    {
     "data": {
      "text/html": [
       "<div>\n",
       "<style scoped>\n",
       "    .dataframe tbody tr th:only-of-type {\n",
       "        vertical-align: middle;\n",
       "    }\n",
       "\n",
       "    .dataframe tbody tr th {\n",
       "        vertical-align: top;\n",
       "    }\n",
       "\n",
       "    .dataframe thead th {\n",
       "        text-align: right;\n",
       "    }\n",
       "</style>\n",
       "<table border=\"1\" class=\"dataframe\">\n",
       "  <thead>\n",
       "    <tr style=\"text-align: right;\">\n",
       "      <th></th>\n",
       "      <th>Country</th>\n",
       "      <th>Region</th>\n",
       "      <th>Population</th>\n",
       "      <th>Area</th>\n",
       "      <th>Pop_density</th>\n",
       "      <th>Coastline_ratio</th>\n",
       "      <th>Net_migration</th>\n",
       "      <th>Infant_mortality</th>\n",
       "      <th>GDP</th>\n",
       "      <th>Literacy</th>\n",
       "      <th>Phones_per_1000</th>\n",
       "      <th>Arable</th>\n",
       "      <th>Crops</th>\n",
       "      <th>Other</th>\n",
       "      <th>Climate</th>\n",
       "      <th>Birthrate</th>\n",
       "      <th>Deathrate</th>\n",
       "      <th>Agriculture</th>\n",
       "      <th>Industry</th>\n",
       "      <th>Service</th>\n",
       "    </tr>\n",
       "  </thead>\n",
       "  <tbody>\n",
       "    <tr>\n",
       "      <th>0</th>\n",
       "      <td>Afghanistan</td>\n",
       "      <td>ASIA (EX. NEAR EAST)</td>\n",
       "      <td>31056997</td>\n",
       "      <td>647500</td>\n",
       "      <td>48.0</td>\n",
       "      <td>0.00</td>\n",
       "      <td>23.06</td>\n",
       "      <td>163.07</td>\n",
       "      <td>700.0</td>\n",
       "      <td>36.0</td>\n",
       "      <td>3.2</td>\n",
       "      <td>12.13</td>\n",
       "      <td>0.22</td>\n",
       "      <td>87.65</td>\n",
       "      <td>1.0</td>\n",
       "      <td>46.60</td>\n",
       "      <td>20.34</td>\n",
       "      <td>0.380</td>\n",
       "      <td>0.240</td>\n",
       "      <td>0.380</td>\n",
       "    </tr>\n",
       "    <tr>\n",
       "      <th>1</th>\n",
       "      <td>Albania</td>\n",
       "      <td>EASTERN EUROPE</td>\n",
       "      <td>3581655</td>\n",
       "      <td>28748</td>\n",
       "      <td>124.6</td>\n",
       "      <td>1.26</td>\n",
       "      <td>-4.93</td>\n",
       "      <td>21.52</td>\n",
       "      <td>4500.0</td>\n",
       "      <td>86.5</td>\n",
       "      <td>71.2</td>\n",
       "      <td>21.09</td>\n",
       "      <td>4.42</td>\n",
       "      <td>74.49</td>\n",
       "      <td>3.0</td>\n",
       "      <td>15.11</td>\n",
       "      <td>5.22</td>\n",
       "      <td>0.232</td>\n",
       "      <td>0.188</td>\n",
       "      <td>0.579</td>\n",
       "    </tr>\n",
       "    <tr>\n",
       "      <th>2</th>\n",
       "      <td>Algeria</td>\n",
       "      <td>NORTHERN AFRICA</td>\n",
       "      <td>32930091</td>\n",
       "      <td>2381740</td>\n",
       "      <td>13.8</td>\n",
       "      <td>0.04</td>\n",
       "      <td>-0.39</td>\n",
       "      <td>31.00</td>\n",
       "      <td>6000.0</td>\n",
       "      <td>70.0</td>\n",
       "      <td>78.1</td>\n",
       "      <td>3.22</td>\n",
       "      <td>0.25</td>\n",
       "      <td>96.53</td>\n",
       "      <td>1.0</td>\n",
       "      <td>17.14</td>\n",
       "      <td>4.61</td>\n",
       "      <td>0.101</td>\n",
       "      <td>0.600</td>\n",
       "      <td>0.298</td>\n",
       "    </tr>\n",
       "    <tr>\n",
       "      <th>3</th>\n",
       "      <td>American Samoa</td>\n",
       "      <td>OCEANIA</td>\n",
       "      <td>57794</td>\n",
       "      <td>199</td>\n",
       "      <td>290.4</td>\n",
       "      <td>58.29</td>\n",
       "      <td>-20.71</td>\n",
       "      <td>9.27</td>\n",
       "      <td>8000.0</td>\n",
       "      <td>97.0</td>\n",
       "      <td>259.5</td>\n",
       "      <td>10.00</td>\n",
       "      <td>15.00</td>\n",
       "      <td>75.00</td>\n",
       "      <td>2.0</td>\n",
       "      <td>22.46</td>\n",
       "      <td>3.27</td>\n",
       "      <td>NaN</td>\n",
       "      <td>NaN</td>\n",
       "      <td>NaN</td>\n",
       "    </tr>\n",
       "    <tr>\n",
       "      <th>4</th>\n",
       "      <td>Andorra</td>\n",
       "      <td>WESTERN EUROPE</td>\n",
       "      <td>71201</td>\n",
       "      <td>468</td>\n",
       "      <td>152.1</td>\n",
       "      <td>0.00</td>\n",
       "      <td>6.60</td>\n",
       "      <td>4.05</td>\n",
       "      <td>19000.0</td>\n",
       "      <td>100.0</td>\n",
       "      <td>497.2</td>\n",
       "      <td>2.22</td>\n",
       "      <td>0.00</td>\n",
       "      <td>97.78</td>\n",
       "      <td>3.0</td>\n",
       "      <td>8.71</td>\n",
       "      <td>6.25</td>\n",
       "      <td>NaN</td>\n",
       "      <td>NaN</td>\n",
       "      <td>NaN</td>\n",
       "    </tr>\n",
       "  </tbody>\n",
       "</table>\n",
       "</div>"
      ],
      "text/plain": [
       "           Country                               Region  Population     Area  \\\n",
       "0     Afghanistan         ASIA (EX. NEAR EAST)             31056997   647500   \n",
       "1         Albania   EASTERN EUROPE                          3581655    28748   \n",
       "2         Algeria   NORTHERN AFRICA                        32930091  2381740   \n",
       "3  American Samoa   OCEANIA                                   57794      199   \n",
       "4         Andorra   WESTERN EUROPE                            71201      468   \n",
       "\n",
       "   Pop_density  Coastline_ratio  Net_migration  Infant_mortality      GDP  \\\n",
       "0         48.0             0.00          23.06            163.07    700.0   \n",
       "1        124.6             1.26          -4.93             21.52   4500.0   \n",
       "2         13.8             0.04          -0.39             31.00   6000.0   \n",
       "3        290.4            58.29         -20.71              9.27   8000.0   \n",
       "4        152.1             0.00           6.60              4.05  19000.0   \n",
       "\n",
       "   Literacy  Phones_per_1000  Arable  Crops  Other  Climate  Birthrate  \\\n",
       "0      36.0              3.2   12.13   0.22  87.65      1.0      46.60   \n",
       "1      86.5             71.2   21.09   4.42  74.49      3.0      15.11   \n",
       "2      70.0             78.1    3.22   0.25  96.53      1.0      17.14   \n",
       "3      97.0            259.5   10.00  15.00  75.00      2.0      22.46   \n",
       "4     100.0            497.2    2.22   0.00  97.78      3.0       8.71   \n",
       "\n",
       "   Deathrate  Agriculture  Industry  Service  \n",
       "0      20.34        0.380     0.240    0.380  \n",
       "1       5.22        0.232     0.188    0.579  \n",
       "2       4.61        0.101     0.600    0.298  \n",
       "3       3.27          NaN       NaN      NaN  \n",
       "4       6.25          NaN       NaN      NaN  "
      ]
     },
     "execution_count": 4,
     "metadata": {},
     "output_type": "execute_result"
    }
   ],
   "source": [
    "new_column_names = [\n",
    "    \"Country\", \"Region\", \"Population\", \"Area\", \"Pop_density\", \"Coastline_ratio\",\n",
    "    \"Net_migration\", \"Infant_mortality\", \"GDP\", \"Literacy\", \"Phones_per_1000\",\n",
    "    \"Arable\", \"Crops\", \"Other\", \"Climate\", \"Birthrate\", \"Deathrate\", \"Agriculture\",\n",
    "    \"Industry\", \"Service\"\n",
    "]\n",
    "\n",
    "countries.columns = new_column_names\n",
    "\n",
    "countries.head(5)"
   ]
  },
  {
   "cell_type": "code",
   "execution_count": 5,
   "metadata": {},
   "outputs": [
    {
     "data": {
      "text/plain": [
       "(227, 20)"
      ]
     },
     "execution_count": 5,
     "metadata": {},
     "output_type": "execute_result"
    }
   ],
   "source": [
    "countries.shape"
   ]
  },
  {
   "cell_type": "markdown",
   "metadata": {},
   "source": [
    "## Observações\n",
    "\n",
    "Esse _data set_ ainda precisa de alguns ajustes iniciais. Primeiro, note que as variáveis numéricas estão usando vírgula como separador decimal e estão codificadas como strings. Corrija isso antes de continuar: transforme essas variáveis em numéricas adequadamente.\n",
    "\n",
    "Além disso, as variáveis `Country` e `Region` possuem espaços a mais no começo e no final da string. Você pode utilizar o método `str.strip()` para remover esses espaços."
   ]
  },
  {
   "cell_type": "markdown",
   "metadata": {},
   "source": [
    "## Inicia sua análise a partir daqui"
   ]
  },
  {
   "cell_type": "code",
   "execution_count": 6,
   "metadata": {},
   "outputs": [
    {
     "data": {
      "text/plain": [
       "Country              object\n",
       "Region               object\n",
       "Population            int64\n",
       "Area                  int64\n",
       "Pop_density         float64\n",
       "Coastline_ratio     float64\n",
       "Net_migration       float64\n",
       "Infant_mortality    float64\n",
       "GDP                 float64\n",
       "Literacy            float64\n",
       "Phones_per_1000     float64\n",
       "Arable              float64\n",
       "Crops               float64\n",
       "Other               float64\n",
       "Climate             float64\n",
       "Birthrate           float64\n",
       "Deathrate           float64\n",
       "Agriculture         float64\n",
       "Industry            float64\n",
       "Service             float64\n",
       "dtype: object"
      ]
     },
     "execution_count": 6,
     "metadata": {},
     "output_type": "execute_result"
    }
   ],
   "source": [
    "countries.dtypes"
   ]
  },
  {
   "cell_type": "code",
   "execution_count": 7,
   "metadata": {},
   "outputs": [
    {
     "data": {
      "text/plain": [
       "Index(['Country', 'Region', 'Population', 'Area', 'Pop_density',\n",
       "       'Coastline_ratio', 'Net_migration', 'Infant_mortality', 'GDP',\n",
       "       'Literacy', 'Phones_per_1000', 'Arable', 'Crops', 'Other', 'Climate',\n",
       "       'Birthrate', 'Deathrate', 'Agriculture', 'Industry', 'Service'],\n",
       "      dtype='object')"
      ]
     },
     "execution_count": 7,
     "metadata": {},
     "output_type": "execute_result"
    }
   ],
   "source": [
    "countries.columns"
   ]
  },
  {
   "cell_type": "markdown",
   "metadata": {},
   "source": [
    "## Questão 1\n",
    "\n",
    "Quais são as regiões (variável `Region`) presentes no _data set_? Retorne uma lista com as regiões únicas do _data set_ com os espaços à frente e atrás da string removidos (mas mantenha pontuação: ponto, hífen etc) e ordenadas em ordem alfabética."
   ]
  },
  {
   "cell_type": "code",
   "execution_count": 8,
   "metadata": {},
   "outputs": [],
   "source": [
    "def q1():\n",
    "    region = countries['Region'].unique()\n",
    "    region = [x.strip(' ') for x in region]\n",
    "    region.sort()\n",
    "    return list(region)"
   ]
  },
  {
   "cell_type": "code",
   "execution_count": 9,
   "metadata": {},
   "outputs": [
    {
     "data": {
      "text/plain": [
       "['ASIA (EX. NEAR EAST)',\n",
       " 'BALTICS',\n",
       " 'C.W. OF IND. STATES',\n",
       " 'EASTERN EUROPE',\n",
       " 'LATIN AMER. & CARIB',\n",
       " 'NEAR EAST',\n",
       " 'NORTHERN AFRICA',\n",
       " 'NORTHERN AMERICA',\n",
       " 'OCEANIA',\n",
       " 'SUB-SAHARAN AFRICA',\n",
       " 'WESTERN EUROPE']"
      ]
     },
     "execution_count": 9,
     "metadata": {},
     "output_type": "execute_result"
    }
   ],
   "source": [
    "q1()"
   ]
  },
  {
   "cell_type": "markdown",
   "metadata": {},
   "source": [
    "## Questão 2\n",
    "\n",
    "Discretizando a variável `Pop_density` em 10 intervalos com `KBinsDiscretizer`, seguindo o encode `ordinal` e estratégia `quantile`, quantos países se encontram acima do 90º percentil? Responda como um único escalar inteiro."
   ]
  },
  {
   "cell_type": "code",
   "execution_count": 10,
   "metadata": {},
   "outputs": [
    {
     "data": {
      "text/plain": [
       "23"
      ]
     },
     "execution_count": 10,
     "metadata": {},
     "output_type": "execute_result"
    }
   ],
   "source": [
    "from sklearn.preprocessing import KBinsDiscretizer\n",
    "\n",
    "countries_new = countries.copy()\n",
    "\n",
    "disc = KBinsDiscretizer(n_bins=10, encode='ordinal', strategy='quantile')\n",
    "X = countries_new['Pop_density'].values.reshape(-1, 1)\n",
    "\n",
    "countries_new['Cat_pop_dens'] = disc.fit_transform(X)\n",
    "countries_new['Cat_pop_dens'][countries_new['Cat_pop_dens']>8].count()"
   ]
  },
  {
   "cell_type": "code",
   "execution_count": 11,
   "metadata": {},
   "outputs": [
    {
     "data": {
      "image/png": "[encoded data removed]",
      "text/plain": [
       "<Figure size 720x360 with 1 Axes>"
      ]
     },
     "metadata": {},
     "output_type": "display_data"
    }
   ],
   "source": [
    "countries_new['Cat_pop_dens'].hist();"
   ]
  },
  {
   "cell_type": "code",
   "execution_count": 12,
   "metadata": {},
   "outputs": [
    {
     "data": {
      "image/png": "[encoded data removed]",
      "text/plain": [
       "<Figure size 720x360 with 1 Axes>"
      ]
     },
     "metadata": {},
     "output_type": "display_data"
    }
   ],
   "source": [
    "countries_new['Pop_density'].hist(bins=10);"
   ]
  },
  {
   "cell_type": "code",
   "execution_count": 13,
   "metadata": {},
   "outputs": [
    {
     "data": {
      "image/png": "[encoded data removed]",
      "text/plain": [
       "<Figure size 720x360 with 1 Axes>"
      ]
     },
     "metadata": {},
     "output_type": "display_data"
    }
   ],
   "source": [
    "plt.boxplot(X, showmeans=True);"
   ]
  },
  {
   "cell_type": "code",
   "execution_count": 14,
   "metadata": {},
   "outputs": [],
   "source": [
    "def q2():\n",
    "    disc = KBinsDiscretizer(n_bins=10, encode='ordinal', strategy='quantile')\n",
    "    countries2 = countries.copy()\n",
    "    X = countries2['Pop_density'].values.reshape(-1, 1)\n",
    "    countries2['Cat_pop_dens'] = disc.fit_transform(X)\n",
    "    return countries2['Cat_pop_dens'][countries2['Cat_pop_dens']>8].count()"
   ]
  },
  {
   "cell_type": "code",
   "execution_count": 15,
   "metadata": {},
   "outputs": [
    {
     "data": {
      "text/plain": [
       "23"
      ]
     },
     "execution_count": 15,
     "metadata": {},
     "output_type": "execute_result"
    }
   ],
   "source": [
    "q2()"
   ]
  },
  {
   "cell_type": "markdown",
   "metadata": {},
   "source": [
    "https://jorisvandenbossche.github.io/blog/2018/05/28/scikit-learn-columntransformer/"
   ]
  },
  {
   "cell_type": "markdown",
   "metadata": {},
   "source": [
    "# Questão 3\n",
    "\n",
    "Se codificarmos as variáveis `Region` e `Climate` usando _one-hot encoding_, quantos novos atributos seriam criados? Responda como um único escalar."
   ]
  },
  {
   "cell_type": "code",
   "execution_count": 16,
   "metadata": {},
   "outputs": [],
   "source": [
    "countries['Climate'] = countries['Climate'].fillna(0).astype(str)"
   ]
  },
  {
   "cell_type": "code",
   "execution_count": 17,
   "metadata": {
    "scrolled": false
   },
   "outputs": [],
   "source": [
    "# Criando pipeline de tranformação\n",
    "from sklearn.preprocessing import OneHotEncoder, StandardScaler\n",
    "from sklearn.compose import ColumnTransformer, make_column_transformer\n",
    "from sklearn.pipeline import Pipeline\n",
    "\n",
    "preprocess = ColumnTransformer(transformers=[('One Hot', OneHotEncoder(), ['Climate', 'Region'])\n",
    "                               , ('Scale', StandardScaler(), ['Population'])]\n",
    "                               , remainder='passthrough')\n",
    "\n",
    "new_countries = preprocess.fit_transform(countries)\n",
    "\n",
    "# One Hot Columns\n",
    "preprocess_columns = preprocess.transformers_[0][1].get_feature_names(['Climate', 'Region'])\n",
    "\n",
    "new_countries = pd.DataFrame(new_countries) #columns=preprocess_columns"
   ]
  },
  {
   "cell_type": "code",
   "execution_count": 18,
   "metadata": {},
   "outputs": [
    {
     "data": {
      "text/plain": [
       "18"
      ]
     },
     "execution_count": 18,
     "metadata": {},
     "output_type": "execute_result"
    }
   ],
   "source": [
    "# One Hot Encoder\n",
    "ohe = OneHotEncoder(sparse=False)\n",
    "encoded = ohe.fit_transform(countries[['Region', 'Climate']])\n",
    "encoded.shape[1]"
   ]
  },
  {
   "cell_type": "code",
   "execution_count": 19,
   "metadata": {},
   "outputs": [],
   "source": [
    "def q3():\n",
    "    OHE = OneHotEncoder(sparse=False)\n",
    "    encoded = OHE.fit_transform(countries[['Region', 'Climate']])\n",
    "    return encoded.shape[1]"
   ]
  },
  {
   "cell_type": "code",
   "execution_count": 20,
   "metadata": {},
   "outputs": [
    {
     "data": {
      "text/plain": [
       "18"
      ]
     },
     "execution_count": 20,
     "metadata": {},
     "output_type": "execute_result"
    }
   ],
   "source": [
    "q3()"
   ]
  },
  {
   "cell_type": "markdown",
   "metadata": {},
   "source": [
    "## Questão 4\n",
    "\n",
    "Aplique o seguinte _pipeline_:\n",
    "\n",
    "1. Preencha as variáveis do tipo `int64` e `float64` com suas respectivas medianas.\n",
    "2. Padronize essas variáveis.\n",
    "\n",
    "Após aplicado o _pipeline_ descrito acima aos dados (somente nas variáveis dos tipos especificados), aplique o mesmo _pipeline_ (ou `ColumnTransformer`) ao dado abaixo. Qual o valor da variável `Arable` após o _pipeline_? Responda como um único float arredondado para três casas decimais."
   ]
  },
  {
   "cell_type": "code",
   "execution_count": 21,
   "metadata": {},
   "outputs": [],
   "source": [
    "test_country = [\n",
    "    'Test Country', 'NEAR EAST', -0.19032480757326514,\n",
    "    -0.3232636124824411, -0.04421734470810142, -0.27528113360605316,\n",
    "    0.13255850810281325, -0.8054845935643491, 1.0119784924248225,\n",
    "    0.6189182532646624, 1.0074863283776458, 0.20239896852403538,\n",
    "    -0.043678728558593366, -0.13929748680369286, 1.3163604645710438,\n",
    "    -0.3699637766938669, -0.6149300604558857, -0.854369594993175,\n",
    "    0.263445277972641, 0.5712416961268142\n",
    "]\n",
    "\n",
    "test_country_new = [i for i in test_country if isinstance(i, (int, float))]"
   ]
  },
  {
   "cell_type": "code",
   "execution_count": 22,
   "metadata": {},
   "outputs": [],
   "source": [
    "countries['Climate'] = countries['Climate'].astype(float)"
   ]
  },
  {
   "cell_type": "code",
   "execution_count": 23,
   "metadata": {},
   "outputs": [],
   "source": [
    "from sklearn.pipeline import Pipeline\n",
    "from sklearn.impute import SimpleImputer\n",
    "\n",
    "numeric_variables = countries.select_dtypes(include=['float64', 'int64'])\n",
    "\n",
    "\n",
    "pipeline = Pipeline([('Imputer', SimpleImputer(missing_values=np.nan, strategy='median'))\n",
    "                     , ('Scaler', StandardScaler())\n",
    "                    ])\n",
    "\n",
    "countries_trans = pipeline.fit_transform(countries[numeric_variables.columns])\n",
    "\n",
    "countries_trans = pd.DataFrame(countries_trans, columns = numeric_variables.columns)"
   ]
  },
  {
   "cell_type": "code",
   "execution_count": 24,
   "metadata": {},
   "outputs": [
    {
     "data": {
      "text/plain": [
       "(18,)"
      ]
     },
     "execution_count": 24,
     "metadata": {},
     "output_type": "execute_result"
    }
   ],
   "source": [
    "numeric_variables.columns.shape"
   ]
  },
  {
   "cell_type": "code",
   "execution_count": 25,
   "metadata": {},
   "outputs": [],
   "source": [
    "def q4():\n",
    "    numeric_variables = countries.select_dtypes(include=['float64', 'int64'])\n",
    "\n",
    "\n",
    "    pipeline = Pipeline([('Imputer', SimpleImputer(missing_values=np.nan, strategy='median'))\n",
    "                         , ('Scaler', StandardScaler())\n",
    "                        ])\n",
    "\n",
    "    pipeline.fit(countries[numeric_variables.columns])\n",
    "\n",
    "    # Aplicando num novo dado\n",
    "    test = pipeline.transform([test_country_new])\n",
    "    result = pd.DataFrame(test, columns = numeric_variables.columns)\n",
    "    return float(result['Arable'].values.round(3))"
   ]
  },
  {
   "cell_type": "code",
   "execution_count": 26,
   "metadata": {},
   "outputs": [
    {
     "data": {
      "text/plain": [
       "-1.047"
      ]
     },
     "execution_count": 26,
     "metadata": {},
     "output_type": "execute_result"
    }
   ],
   "source": [
    "q4()"
   ]
  },
  {
   "cell_type": "markdown",
   "metadata": {},
   "source": [
    "## Questão 5\n",
    "\n",
    "Descubra o número de _outliers_ da variável `Net_migration` segundo o método do _boxplot_, ou seja, usando a lógica:\n",
    "\n",
    "$$x \\notin [Q1 - 1.5 \\times \\text{IQR}, Q3 + 1.5 \\times \\text{IQR}] \\Rightarrow x \\text{ é outlier}$$\n",
    "\n",
    "que se encontram no grupo inferior e no grupo superior.\n",
    "\n",
    "Você deveria remover da análise as observações consideradas _outliers_ segundo esse método? Responda como uma tupla de três elementos `(outliers_abaixo, outliers_acima, removeria?)` ((int, int, bool))."
   ]
  },
  {
   "cell_type": "code",
   "execution_count": 27,
   "metadata": {},
   "outputs": [
    {
     "name": "stdout",
     "output_type": "stream",
     "text": [
      "Número de outliers: 50\n",
      "Itens na váriavel: 227\n",
      "Percentual outliers: 22.0%\n"
     ]
    }
   ],
   "source": [
    "Q1 = countries['Net_migration'].quantile(0.25)\n",
    "Q3 = countries['Net_migration'].quantile(0.75)\n",
    "\n",
    "IQR = Q3-Q1\n",
    "\n",
    "lim_inf = (Q1-(1.5*IQR))\n",
    "lim_sup = (Q3+(1.5*IQR))\n",
    "outliers = ((countries['Net_migration'] > lim_sup) | (countries['Net_migration'] < lim_inf)).sum()\n",
    "\n",
    "print('Número de outliers: {}'.format(outliers))\n",
    "print('Itens na váriavel: {}'.format(countries.shape[0]))\n",
    "print('Percentual outliers: {}%'.format(round((outliers/countries.shape[0])*100)))"
   ]
  },
  {
   "cell_type": "code",
   "execution_count": 28,
   "metadata": {},
   "outputs": [
    {
     "data": {
      "image/png": "[encoded data removed]",
      "text/plain": [
       "<Figure size 720x360 with 1 Axes>"
      ]
     },
     "metadata": {},
     "output_type": "display_data"
    }
   ],
   "source": [
    "countries['Net_migration'].hist();"
   ]
  },
  {
   "cell_type": "code",
   "execution_count": 29,
   "metadata": {},
   "outputs": [],
   "source": [
    "def q5():\n",
    "    q1 = countries['Net_migration'].quantile(0.25)\n",
    "    q3 = countries['Net_migration'].quantile(0.75)\n",
    "\n",
    "    IQR = q3-q1\n",
    "\n",
    "    lim_inf = (q1-(1.5*IQR))\n",
    "    lim_sup = (q3+(1.5*IQR))\n",
    "    sup = (countries['Net_migration'] > lim_sup).sum()\n",
    "    inf = (countries['Net_migration'] < lim_inf).sum()\n",
    "    return tuple([inf, sup, False])"
   ]
  },
  {
   "cell_type": "code",
   "execution_count": 30,
   "metadata": {},
   "outputs": [
    {
     "data": {
      "text/plain": [
       "(24, 26, False)"
      ]
     },
     "execution_count": 30,
     "metadata": {},
     "output_type": "execute_result"
    }
   ],
   "source": [
    "q5()"
   ]
  },
  {
   "cell_type": "markdown",
   "metadata": {},
   "source": [
    "## Questão 6\n",
    "Para as questões 6 e 7 utilize a biblioteca `fetch_20newsgroups` de datasets de test do `sklearn`\n",
    "\n",
    "Considere carregar as seguintes categorias e o dataset `newsgroups`:\n",
    "\n",
    "```\n",
    "categories = ['sci.electronics', 'comp.graphics', 'rec.motorcycles']\n",
    "newsgroup = fetch_20newsgroups(subset=\"train\", categories=categories, shuffle=True, random_state=42)\n",
    "```\n",
    "\n",
    "\n",
    "Aplique `CountVectorizer` ao _data set_ `newsgroups` e descubra o número de vezes que a palavra _phone_ aparece no corpus. Responda como um único escalar."
   ]
  },
  {
   "cell_type": "code",
   "execution_count": 31,
   "metadata": {},
   "outputs": [],
   "source": [
    "from sklearn.datasets import fetch_20newsgroups\n",
    "from sklearn.feature_extraction.text import CountVectorizer"
   ]
  },
  {
   "cell_type": "code",
   "execution_count": 32,
   "metadata": {},
   "outputs": [],
   "source": [
    "categories = ['sci.electronics', 'comp.graphics', 'rec.motorcycles']\n",
    "newsgroup = fetch_20newsgroups(subset=\"train\", categories=categories, shuffle=True, random_state=42)"
   ]
  },
  {
   "cell_type": "code",
   "execution_count": 33,
   "metadata": {},
   "outputs": [
    {
     "data": {
      "text/plain": [
       "['comp.graphics', 'rec.motorcycles', 'sci.electronics']"
      ]
     },
     "execution_count": 33,
     "metadata": {},
     "output_type": "execute_result"
    }
   ],
   "source": [
    "newsgroup.target_names"
   ]
  },
  {
   "cell_type": "code",
   "execution_count": 34,
   "metadata": {},
   "outputs": [
    {
     "data": {
      "text/plain": [
       "1773"
      ]
     },
     "execution_count": 34,
     "metadata": {},
     "output_type": "execute_result"
    }
   ],
   "source": [
    "len(newsgroup.data)"
   ]
  },
  {
   "cell_type": "code",
   "execution_count": 35,
   "metadata": {},
   "outputs": [
    {
     "data": {
      "text/plain": [
       "(1773, 27335)"
      ]
     },
     "execution_count": 35,
     "metadata": {},
     "output_type": "execute_result"
    }
   ],
   "source": [
    "# Contando o número de vezes que a palavra aparece\n",
    "vectorizer = CountVectorizer()\n",
    "count_fit = vectorizer.fit_transform(newsgroup['data'])\n",
    "count_fit.shape"
   ]
  },
  {
   "cell_type": "code",
   "execution_count": 36,
   "metadata": {},
   "outputs": [],
   "source": [
    "word = u'phone' # u - unicode\n",
    "phone = vectorizer.vocabulary_.get(f\"{word.lower()}\")"
   ]
  },
  {
   "cell_type": "code",
   "execution_count": 37,
   "metadata": {},
   "outputs": [
    {
     "data": {
      "text/plain": [
       "213"
      ]
     },
     "execution_count": 37,
     "metadata": {},
     "output_type": "execute_result"
    }
   ],
   "source": [
    "count_fit[:, phone].sum()"
   ]
  },
  {
   "cell_type": "code",
   "execution_count": 38,
   "metadata": {},
   "outputs": [],
   "source": [
    "def q6():\n",
    "    return count_fit[:, phone].sum()"
   ]
  },
  {
   "cell_type": "code",
   "execution_count": 39,
   "metadata": {},
   "outputs": [
    {
     "data": {
      "text/plain": [
       "213"
      ]
     },
     "execution_count": 39,
     "metadata": {},
     "output_type": "execute_result"
    }
   ],
   "source": [
    "q6()"
   ]
  },
  {
   "cell_type": "markdown",
   "metadata": {},
   "source": [
    "## Questão 7\n",
    "\n",
    "Aplique `TfidfVectorizer` ao _data set_ `newsgroups` e descubra o TF-IDF da palavra _phone_. Responda como um único escalar arredondado para três casas decimais."
   ]
  },
  {
   "cell_type": "code",
   "execution_count": 40,
   "metadata": {},
   "outputs": [
    {
     "data": {
      "text/plain": [
       "(1773, 27335)"
      ]
     },
     "execution_count": 40,
     "metadata": {},
     "output_type": "execute_result"
    }
   ],
   "source": [
    "from sklearn.feature_extraction.text import TfidfVectorizer\n",
    "\n",
    "vectorizer = TfidfVectorizer()\n",
    "\n",
    "data_fit = vectorizer.fit_transform(newsgroup['data'])\n",
    "data_fit.shape"
   ]
  },
  {
   "cell_type": "code",
   "execution_count": 41,
   "metadata": {},
   "outputs": [
    {
     "data": {
      "text/plain": [
       "19211"
      ]
     },
     "execution_count": 41,
     "metadata": {},
     "output_type": "execute_result"
    }
   ],
   "source": [
    "# Encontrando o Term Frequency times Inverse Document Frequency\n",
    "word_list = vectorizer.get_feature_names().index(word)\n",
    "word_list"
   ]
  },
  {
   "cell_type": "code",
   "execution_count": 42,
   "metadata": {},
   "outputs": [
    {
     "data": {
      "text/plain": [
       "array([4.40883484, 2.48836461, 0.1647875 , ..., 0.10820946, 0.3127811 ,\n",
       "       0.3127811 ])"
      ]
     },
     "execution_count": 42,
     "metadata": {},
     "output_type": "execute_result"
    }
   ],
   "source": [
    "count_list = data_fit.toarray().sum(axis=0)\n",
    "count_list"
   ]
  },
  {
   "cell_type": "code",
   "execution_count": 43,
   "metadata": {
    "scrolled": true
   },
   "outputs": [
    {
     "data": {
      "text/plain": [
       "8.888"
      ]
     },
     "execution_count": 43,
     "metadata": {},
     "output_type": "execute_result"
    }
   ],
   "source": [
    "round(data_fit[:, word_list].sum(), 3)"
   ]
  },
  {
   "cell_type": "code",
   "execution_count": 53,
   "metadata": {},
   "outputs": [
    {
     "data": {
      "text/plain": [
       "{4.408834842899014: '00',\n",
       " 2.488364606025084: '000',\n",
       " 0.16478750242417678: 'zx900a',\n",
       " 0.44795819200579323: '0709',\n",
       " 0.29517272355311835: 'steatopygias',\n",
       " 0.07176172148899022: 'spokes',\n",
       " 0.0625102836923795: 'unshrouded',\n",
       " 0.005549477399046714: 'zvi',\n",
       " 0.1338091535565911: '0001',\n",
       " 0.15876137859836134: 'ored',\n",
       " 0.9477463781988766: '0002',\n",
       " 0.017201276840819662: 'yearning',\n",
       " 0.2748005763150569: '0005111312',\n",
       " 0.19735172032202541: '0005111312na1em',\n",
       " 0.007107474809403092: 'yarra',\n",
       " 0.4947165625637628: '0013',\n",
       " 0.07813935839474576: 'sumax',\n",
       " 0.12069548446329337: 'wslack',\n",
       " 0.011098954798093428: 'xsharp',\n",
       " 0.6885529945096838: '001',\n",
       " 0.2535771906951235: '0010580b',\n",
       " 0.1623744964134098: 'forcefully',\n",
       " 0.006443459694392104: 'zcat',\n",
       " 0.27077383348454903: '002',\n",
       " 0.2230834654418105: 'ericm',\n",
       " 0.20455021567041404: '9237',\n",
       " 0.14167055865321146: 'passanger',\n",
       " 0.1325577634595147: 'yamabeemer',\n",
       " 0.17916205816369993: 'eddie',\n",
       " 0.1020282593302624: 'matgbb',\n",
       " 0.09372304527589095: 'vittorio',\n",
       " 0.34897838279411203: 'bonneville',\n",
       " 0.14568650971517558: 'wnet',\n",
       " 0.42672873339203204: '0049',\n",
       " 0.06833801374179334: 'unclassified',\n",
       " 0.19996121581319748: 'gals',\n",
       " 0.09861597350111875: 'v1000',\n",
       " 0.08642585653326414: 'swamped',\n",
       " 0.02813214080795687: 'xmtr',\n",
       " 0.01631382086895553: 'westminister',\n",
       " 0.07365898675547351: 'wihtout',\n",
       " 0.11810337531067869: 'xhfg2b5w165w',\n",
       " 0.36499010194858933: '00pm',\n",
       " 0.2960256844047929: 'waflinemail',\n",
       " 2.0869940400254627: '01',\n",
       " 0.04217665162883382: 'steffen',\n",
       " 0.1005606060295854: 'puppies',\n",
       " 0.08697217552463876: '18225',\n",
       " 0.8891844197965642: '0111',\n",
       " 0.10350707870007386: 'choises',\n",
       " 0.1618026935503331: '486dx',\n",
       " 0.08879060586352697: 'toolmaker',\n",
       " 0.03441450327080679: 'youngest',\n",
       " 0.10803834826370678: 'housing',\n",
       " 0.06099808538916938: 'saints',\n",
       " 0.07508471749896264: 'zr1',\n",
       " 0.12686066299989682: 'laywer',\n",
       " 0.09991094497666057: 'colorix',\n",
       " 0.1056070429863487: 'rycharde',\n",
       " 0.1688576486970007: 'teecs',\n",
       " 0.008600638420409831: 'zippo',\n",
       " 0.14764444856990244: 'piney',\n",
       " 0.1716667368918221: 'kotnml',\n",
       " 0.09502597403782403: 'wafer',\n",
       " 0.07285823456315228: 'msd26',\n",
       " 0.020924870841283433: 'wallpaper',\n",
       " 0.20476009033488: '328',\n",
       " 0.035277819911731866: 'yanked',\n",
       " 0.2055518981774658: '01a',\n",
       " 1.4718020529253735: '02',\n",
       " 0.30575232912676786: '0200',\n",
       " 0.11749061951564654: 'volitiles',\n",
       " 0.13627109293150058: '6004',\n",
       " 0.06202820856307687: 'wallet',\n",
       " 0.14289232288888418: 'swiv3d',\n",
       " 0.4186365132784232: '02115',\n",
       " 0.05944293555629331: '02139',\n",
       " 0.17396706434488704: '02142',\n",
       " 0.12097333344253224: 'waltham',\n",
       " 0.12117413570137472: 'vest',\n",
       " 0.1027759490887329: 'yost',\n",
       " 0.8288238328825472: '022',\n",
       " 0.10132233781022303: 'sheild',\n",
       " 0.0038771161762258892: 'wrapped',\n",
       " 0.183426923726698: 'julian',\n",
       " 0.27863498992990365: '0235',\n",
       " 0.11974413322196525: 'metaware',\n",
       " 0.26736876223595957: '7394',\n",
       " 0.19307392062859763: 'sprained',\n",
       " 0.13980377060478202: 'heidelberg',\n",
       " 0.2726649806191941: '02678944',\n",
       " 0.1365479610660458: 'zine',\n",
       " 0.13191820181145783: 'multimed',\n",
       " 0.09023726443263574: 'vx800',\n",
       " 0.17455389454924874: '0293',\n",
       " 0.8458841440466822: '03',\n",
       " 0.18955565021752074: '0300',\n",
       " 0.09323636200790177: 'rmw',\n",
       " 0.12190663499847829: 'arrowheads',\n",
       " 0.09964611451553412: 'waynar',\n",
       " 0.5979314857798751: '0330',\n",
       " 0.10872819887322792: 'jvannes',\n",
       " 0.1481842699589115: '26854',\n",
       " 0.08989563890483092: '0349',\n",
       " 0.1055551803090019: 'unifying',\n",
       " 0.10337024945541866: 'seam',\n",
       " 0.7360619305815619: 'n4tmi',\n",
       " 0.11779334995826991: 'twinkie',\n",
       " 0.11059823018682537: 'unrestored',\n",
       " 0.2548148118865449: 'monza',\n",
       " 0.1796226565496686: 'younes',\n",
       " 1.6753067335445158: '04',\n",
       " 0.2381241233773686: 'rbarris',\n",
       " 0.11541314883930477: 'segmented',\n",
       " 0.09701077818961709: 'xanthorrhoea',\n",
       " 0.0660191767381037: 'iicx',\n",
       " 0.08571492897848312: 'wpd',\n",
       " 0.06281798413579451: 't63',\n",
       " 0.06424630186265606: 'xact',\n",
       " 0.4070070209587713: '0423',\n",
       " 0.14228683699383762: '22937',\n",
       " 0.07620524009720547: 'tradename',\n",
       " 0.08997770049623857: 'gs1000e',\n",
       " 0.08547695500090115: 'slcs',\n",
       " 0.054539235103830776: 'tina',\n",
       " 0.04357140726114052: 'widener',\n",
       " 0.07064993246545909: 'zzr1100',\n",
       " 0.13762993915099772: 'swirve',\n",
       " 0.9990105106242182: '047',\n",
       " 0.10142065933250564: 'wg',\n",
       " 0.11235570337275054: 'shamu',\n",
       " 0.07928817877470212: 'vgl',\n",
       " 1.1200370290862698: '05',\n",
       " 0.11961778238212582: '0511',\n",
       " 0.1417510216886206: 'genus',\n",
       " 0.06525528347582212: 'socal',\n",
       " 0.21074313476964723: 'thumpy',\n",
       " 0.1243279161649585: 'trackballs',\n",
       " 0.12173134220949941: 'vpic60',\n",
       " 0.0829973527730144: 'v8l',\n",
       " 0.1805981714869032: 'tick',\n",
       " 0.003934857355550692: 'zipper',\n",
       " 0.03262764173791106: 'ventura',\n",
       " 0.09232694213437749: 'worthiness',\n",
       " 0.18725108558567435: 'queued',\n",
       " 0.1778303643170986: '0570',\n",
       " 0.10371568948464521: 'pcdehp',\n",
       " 0.10299852170046965: 'weekday',\n",
       " 0.3448564507216363: '0598',\n",
       " 0.4320278606827117: 'unbvm1',\n",
       " 0.9837037473927934: '06',\n",
       " 0.14091868347477882: 'home2',\n",
       " 0.0849811668054737: 'x7114',\n",
       " 0.09391139471535809: 'carderockdiv',\n",
       " 0.10235713912824046: 'runway',\n",
       " 0.20439790961212467: 'vernon',\n",
       " 0.16657044960003134: 'szechuan',\n",
       " 0.23148717924868134: '6095',\n",
       " 0.13686548912127705: 'whitney',\n",
       " 0.11485822401351889: 'jph',\n",
       " 0.08944349994165125: 'stanf',\n",
       " 0.15942010179912935: 'shortage',\n",
       " 0.829243656071684: 'wizards',\n",
       " 0.10218936921486396: 'uid',\n",
       " 0.07334413800170285: 'x400',\n",
       " 0.9671258648464605: '07',\n",
       " 0.2468282077285337: 'nuwc',\n",
       " 0.08804418187967003: 'parameterized',\n",
       " 0.10401607733653452: '07090',\n",
       " 0.26114439951976026: '477',\n",
       " 0.05776179659657218: 'ssi',\n",
       " 0.12197578921534188: 'v16',\n",
       " 0.8631677970465802: '0721',\n",
       " 0.18825416473868678: 'willen',\n",
       " 0.06351956044778347: 'wellesley',\n",
       " 0.41479843759274027: '0735',\n",
       " 0.2131714467499424: '668966',\n",
       " 0.4628168689253077: 'velorex',\n",
       " 0.11738884596292606: 'universidad',\n",
       " 0.28628655354956606: 'zeppelin',\n",
       " 0.09728268275411966: 'wheezing',\n",
       " 0.08317294528086748: 'yuasa',\n",
       " 0.11650973938202837: 'xj600',\n",
       " 0.17407760175205356: 'itasca',\n",
       " 0.08381915322919016: 'vulcan',\n",
       " 0.9464893148973547: '08',\n",
       " 0.35969297170441183: 'tny',\n",
       " 0.0804292812564556: 'elude',\n",
       " 0.6688904946352764: 'mendell',\n",
       " 0.20467392168614176: 'iu',\n",
       " 0.21520687893322327: 'vfr700f2',\n",
       " 0.35951001962638895: 'tuba',\n",
       " 0.1782768389035893: 'rm125',\n",
       " 0.11087122139471926: 'twilight',\n",
       " 0.15669411981054984: '083731',\n",
       " 0.16051192641982437: 'lumina',\n",
       " 0.4174053737923976: 'xz550',\n",
       " 0.2747046037713661: 'socio',\n",
       " 0.026888822575160932: 'zero_',\n",
       " 0.07859511475073526: 'xs650',\n",
       " 0.060266945012792526: 'quits',\n",
       " 0.8892598508545683: '09',\n",
       " 0.17358529740928985: 'edl',\n",
       " 0.06558943047059253: 'vdbsan',\n",
       " 0.0903315485732558: '299',\n",
       " 0.13841184585182023: '1pseebinnhn6',\n",
       " 0.10374774279429985: 'intermidiate',\n",
       " 0.43473476520236415: 'yay',\n",
       " 0.12739158457309013: '8144',\n",
       " 0.19511292746180342: '28141',\n",
       " 0.13436621418685463: 'x9487',\n",
       " 0.11366753884872126: '8299',\n",
       " 0.16841515829049464: 'aclu',\n",
       " 0.09089214952943157: 'virus',\n",
       " 0.1783272546303727: '0a',\n",
       " 0.12734026770684562: '0b',\n",
       " 0.15530069491096138: 'bub',\n",
       " 0.13718849509914816: 'personalize',\n",
       " 0.19619539122502616: '0forqfa00iuzmatnmz',\n",
       " 0.13057219975988013: 'x3769',\n",
       " 0.14393728371979184: '0ma',\n",
       " 0.4308323489218959: '0v',\n",
       " 0.11590164020908346: '0x',\n",
       " 0.09095073530723162: 'vutbr',\n",
       " 0.27933790947917925: '0x100',\n",
       " 0.02007855804679538: 'writng',\n",
       " 10.066678602805647: '10',\n",
       " 4.616731404337573: '100',\n",
       " 2.316905927476215: '1000',\n",
       " 0.25442053529845193: '100000',\n",
       " 0.09309058251571056: 'vat',\n",
       " 0.19280268988672683: 'giants',\n",
       " 0.42365771360254134: '1000cc',\n",
       " 0.11082398886771815: 'pll',\n",
       " 0.11186777920198829: 'ppppppphhhhhttttttt',\n",
       " 0.04525929289666648: 'xiaopin',\n",
       " 0.36341673962062115: 'u009',\n",
       " 0.06756210257448797: 'winken',\n",
       " 0.19257906092505103: '100hz',\n",
       " 0.22179858492375693: '100k',\n",
       " 0.08215516049299344: 'knoweth',\n",
       " 0.13229575962731835: 'vom',\n",
       " 0.3719248575809557: '100mb',\n",
       " 0.1227901131228029: '50hz',\n",
       " 0.5174053426881429: '100mhz',\n",
       " 0.07311136477057137: 'taunt',\n",
       " 0.06540735233543325: 'resposes',\n",
       " 0.1779660232805027: '101',\n",
       " 0.42554146838204415: '101010',\n",
       " 0.27431128234864394: 'yeung',\n",
       " 0.11270692897792364: 'pane',\n",
       " 0.1423570749881732: 'ugle',\n",
       " 0.1028404465474211: 'showpage',\n",
       " 0.06131571547289779: 'vbe',\n",
       " 0.2738407125704264: '102',\n",
       " 0.26359882150821934: 'uk03',\n",
       " 0.5883330648713853: '1024',\n",
       " 0.25042537599771786: '1615a',\n",
       " 0.03078524181029895: 'undergoes',\n",
       " 0.04193880859747871: 'wich',\n",
       " 0.09431523793440232: 'zooms',\n",
       " 0.46392099190482367: '1024x768',\n",
       " 0.09554050477043953: 'zeit',\n",
       " 0.15736142907402967: 'wkshop',\n",
       " 0.23560217427157498: 'striaght',\n",
       " 0.11929972565055652: '1709',\n",
       " 0.16708454658380048: 'nedlands',\n",
       " 0.25794321521520447: '103',\n",
       " 0.25406349948670737: '10326',\n",
       " 0.1832728926333153: 'velasco',\n",
       " 0.06662985533463647: 'vectorized',\n",
       " 0.23865797969936411: '104',\n",
       " 0.11393786422475978: 'venture',\n",
       " 0.19792776994787886: 'legged',\n",
       " 0.30803439413324313: '105',\n",
       " 0.05626428161591374: 'yonkers',\n",
       " 0.12621529415137892: 'signify',\n",
       " 0.10135070994926912: 'uds',\n",
       " 0.09605669393415787: 'undertake',\n",
       " 0.15395012786355342: '20864',\n",
       " 0.31591718007890507: '1058',\n",
       " 0.2912790487281755: '106',\n",
       " 0.09752307512281116: 'wholesale',\n",
       " 0.1430875722936902: 'propeller',\n",
       " 0.4526426653852522: '1066',\n",
       " 0.08861593740434462: 'radioactivity',\n",
       " 0.1542571236405136: 'thidwick',\n",
       " 0.8640282780641411: 'pbwasoh',\n",
       " 0.20189110068778976: '107',\n",
       " 0.47854210858537505: '1070',\n",
       " 0.13457524096937326: '10738',\n",
       " 0.2891865477511185: '1076',\n",
       " 0.4317142425878104: '108',\n",
       " 0.11751127783438957: 'wasnt',\n",
       " 0.10522738674875785: 'sweeter',\n",
       " 0.0687581769051251: 'telescoping',\n",
       " 0.256840530667802: 'vauxhall',\n",
       " 0.08568920549327141: 'synonymous',\n",
       " 0.11880491686251839: '109',\n",
       " 0.1828382137181993: 'idnetical',\n",
       " 0.217561883884738: 'opponents',\n",
       " 0.09899824563321825: 'undercoat',\n",
       " 0.04950780570816001: 'wraps',\n",
       " 0.04563397596850878: 'vincent1',\n",
       " 0.10978231535619712: 'commpression',\n",
       " 0.11266021262983562: 'plotpoint',\n",
       " 0.6156592950033621: '10k',\n",
       " 0.11059848740565491: 'widening',\n",
       " 0.07542985231000263: 'outboard',\n",
       " 0.14191236735802493: '10mhz',\n",
       " 0.06290578638444892: 'wavy',\n",
       " 0.22137102414221688: '10th',\n",
       " 0.08953436255156434: 'snakemail',\n",
       " 0.09605240752879902: 'vdcmax',\n",
       " 0.18109036498304554: 'vceo',\n",
       " 0.1403441917264597: '10x',\n",
       " 0.065572035606285: 'score',\n",
       " 7.648084601781181: '11',\n",
       " 1.2653708730255437: '110',\n",
       " 0.9308053318681199: '1100',\n",
       " 0.10821158807480888: 'tanstaafl',\n",
       " 0.09730254456875877: 'slaughter',\n",
       " 0.11342401298643251: '110hz',\n",
       " 0.07869714711101385: '110v',\n",
       " 0.22304611440794445: 'neuron6',\n",
       " 0.15395694218542133: '111',\n",
       " 0.20350351047938564: '7742',\n",
       " 0.10098958743384026: '215428',\n",
       " 0.12458442454733765: '68124',\n",
       " 0.07915195679811511: 'unpaid',\n",
       " 1.4118808642915603: '112',\n",
       " 0.28560265365398385: '192947',\n",
       " 0.12785164398508733: 'slain',\n",
       " 0.21049727920818956: '113',\n",
       " 0.12470901517664928: 'lump',\n",
       " 0.09067989863678676: 'unauthorized',\n",
       " 0.2030201537749573: 'subdirs',\n",
       " 0.09343943325598564: 'untill',\n",
       " 0.09171667777989358: 'totaling',\n",
       " 0.267683374666643: '1138',\n",
       " 1.5824724678015094: '114',\n",
       " 0.27860013656452615: '2246',\n",
       " 0.10184675171413228: 'opps',\n",
       " 0.2383081276697007: '735160298',\n",
       " 0.7580566345181329: '115',\n",
       " 0.07588345832578772: 'tfp',\n",
       " 0.016071896891867932: 'wbau',\n",
       " 0.0962270333820246: 'recipient',\n",
       " 0.319553432168291: '11544',\n",
       " 0.0941848466395377: 'sunburn',\n",
       " 0.2739896738617891: '5473',\n",
       " 0.48682203371807986: '164940',\n",
       " 0.23405870400397688: 'zhao',\n",
       " 0.09700058728221435: 'oshi',\n",
       " 0.01575687249251458: '117',\n",
       " 0.07031878171174447: 'sherwin',\n",
       " 0.7187245128028208: 'gd3004',\n",
       " 0.07191579463031529: '118',\n",
       " 0.31058854422977666: 'mesun4',\n",
       " 0.061977128063672296: 'nibbling',\n",
       " 7.572543332452771: '12',\n",
       " 0.9688901023100339: '120',\n",
       " 1.2812946872038662: '1200',\n",
       " 0.21055324085728452: 'wk',\n",
       " 0.04234483435371221: 'strife',\n",
       " 0.4783788484691165: '120466',\n",
       " 0.09396537464307682: 'withdrawn',\n",
       " 0.38310021307045256: '193758',\n",
       " 0.048610609798278956: 'worthy',\n",
       " 0.19401049017383187: 'pillions',\n",
       " 0.05204408728560974: 'wa2ise',\n",
       " 0.3335353548883935: '120v',\n",
       " 1.054872050003543: '120vac',\n",
       " 0.27847640305792654: '121',\n",
       " 0.19912125838154565: '1211',\n",
       " 0.2527924879793927: '1212',\n",
       " 0.12697937401188272: 'refresher',\n",
       " 0.07227782897890762: '14451',\n",
       " 0.20257210429461886: '122',\n",
       " 0.11416814540905493: 'stucky',\n",
       " 0.38010484155696506: 'ambidextrous',\n",
       " 0.07633726797317293: 'whahwuhuhahuah',\n",
       " 0.0703256227493164: '123',\n",
       " 0.09770747828229057: 'restrain',\n",
       " 0.17337608987325312: '2228',\n",
       " 0.12489420755410482: 'organised',\n",
       " 1.3419145836660784: '124',\n",
       " 0.13265219516850554: 'narasimhan',\n",
       " 0.18944016807847122: 'judgemental',\n",
       " 0.10589887793302871: 'yorn',\n",
       " 0.06572945512504685: 'sun13',\n",
       " 0.04656346282470472: '675',\n",
       " 0.29689737173741565: 'gtotten',\n",
       " 0.6904707082882887: '125',\n",
       " 0.233464453362482: '21247',\n",
       " 0.1057410963144287: 'texhrc',\n",
       " 0.08184393987678895: 'tasking',\n",
       " 0.05497044522034451: 'pia',\n",
       " 0.09976251030196939: 'spice3',\n",
       " 0.12063573045834163: 'ureply',\n",
       " 0.15408247593886662: '142715',\n",
       " 0.6668626187803292: '127',\n",
       " 0.18478807260268718: '12739',\n",
       " 0.1036076387361242: 'llsh',\n",
       " 1.2537291685814311: '128',\n",
       " 0.23510901158622918: 'rs43873',\n",
       " 0.18782798074568113: 'florian',\n",
       " 0.2931497164022922: 'tamper',\n",
       " 0.07783118655894916: 'ztimer',\n",
       " 0.11061596219366832: 'sw8',\n",
       " 0.04015711609359076: 'swapping',\n",
       " 0.4795299825712448: '129',\n",
       " 0.09463785963474916: '1290',\n",
       " 0.13380443132439793: 'kb',\n",
       " 0.16581842478027545: 'mommy',\n",
       " 0.2531430645918646: 'un2',\n",
       " 0.1770616103849827: 'wrangler',\n",
       " 0.13696821714117535: '12k',\n",
       " 0.28823578833847874: 'pantah',\n",
       " 0.11016529200614805: 'xicor',\n",
       " 0.9469788517432577: '12v',\n",
       " 0.06139505656140145: 'stages',\n",
       " 0.07434870480264814: 'wp',\n",
       " 6.581359418543349: '13',\n",
       " 1.084763421327971: '130',\n",
       " 0.6763775753250678: '1300',\n",
       " 0.11269073190356908: 'majesty',\n",
       " 0.6733355987875174: 'mjmuise',\n",
       " 0.09703368561691088: 'vl812b2w165w',\n",
       " 0.058184631516416244: 'virgin',\n",
       " 0.08924719037778182: 'valium',\n",
       " 0.09745716370678681: 'xl250',\n",
       " 0.10994089044068903: 'yamada',\n",
       " 0.10440595302370795: '131',\n",
       " 0.088556284895024: 'zi',\n",
       " 0.3223794110079203: '16136',\n",
       " 0.07752649378179625: 'wildcat',\n",
       " 0.27773275279854154: '131941',\n",
       " 0.11428713485396824: '132',\n",
       " 0.07975833443001808: 'eyelets',\n",
       " 0.11260383533798554: 'vous',\n",
       " 0.0694395998549218: 'sussed',\n",
       " 0.23586685862862322: '16154',\n",
       " 0.1872967150202529: '1993apr11',\n",
       " 0.3082174593330411: '133',\n",
       " 0.09037893422312887: 'rbpc54d51',\n",
       " 0.1432706490032299: 'speaks',\n",
       " 0.0972794849989496: 'whoom',\n",
       " 0.35694883547122047: '13386',\n",
       " 0.14291521232286233: 'ckin',\n",
       " 0.5412446123012046: '134',\n",
       " 0.15195812736908548: '1340',\n",
       " 0.07883272291170096: 'shifted',\n",
       " 0.15853890671884718: '21995',\n",
       " 0.034649594432091285: 'worldtoolkit',\n",
       " 0.1764938083922689: 'denton',\n",
       " 0.24577315850328219: '135',\n",
       " 0.28267930354804344: 'palced',\n",
       " 0.23149145586994485: 'aptly',\n",
       " 0.10854171236466166: 'urinalisys',\n",
       " 0.13486649921876462: 'writings',\n",
       " 0.10274602761063635: '135mph',\n",
       " 0.1753373220904376: '136',\n",
       " 0.18363221985247702: 'kenh',\n",
       " 0.17510166355550433: 'shyah',\n",
       " 0.13565381219763517: '13622',\n",
       " 0.10213277186228535: 'soundly',\n",
       " 0.11946736766188464: 'ilgenfritz',\n",
       " 0.14119596241796845: 'fyzzicks',\n",
       " 0.15910696537025026: '137',\n",
       " 0.12682002678907803: 'stave',\n",
       " 0.10271206355543189: '138',\n",
       " 0.09429484649980797: '139',\n",
       " 0.03874869512775213: 'zorn',\n",
       " 1.0795964474769226: '13h',\n",
       " 0.2663718175905809: '13mm',\n",
       " 6.580743600916296: '14',\n",
       " 1.399214547715133: '140',\n",
       " 0.43134787574811295: '1400',\n",
       " 0.14123545886816635: 'subrogation',\n",
       " 0.1408181128430148: '141',\n",
       " 0.03524285534226277: 'triangulating',\n",
       " 0.12942560613155765: 'f6m',\n",
       " 0.00987849655074106: 'point_node',\n",
       " 0.08061997217628492: 'nhtsa',\n",
       " 0.21117949058313443: 'mnemosyne',\n",
       " 0.09486444110664925: 'intentional',\n",
       " 0.1470290355643673: '23722',\n",
       " 0.24577602031778523: '4057',\n",
       " 0.040786617743472406: '142',\n",
       " 0.18753284711264007: '71170',\n",
       " 0.1709355004689458: 'xwais',\n",
       " 0.20605938230066856: 'strung',\n",
       " 0.10834491955251417: '143',\n",
       " 0.6771425037972575: '1433',\n",
       " 0.18614669400256048: '5069',\n",
       " 1.335463076000142: '144',\n",
       " 0.2540442915688269: 'asp',\n",
       " 0.21307002591224233: '18175',\n",
       " 0.09326459095712533: 'zzr11',\n",
       " 0.09917288382900427: 'surly',\n",
       " 0.1248489720697486: '6779',\n",
       " 0.06264448346409564: 'frontend',\n",
       " 0.31702645931966106: '19549',\n",
       " 0.5523115648663263: 'x3153',\n",
       " 0.9351550450499962: '146',\n",
       " 0.06724219067298695: 'shoreline',\n",
       " 0.15600442239305137: 'ptsys1',\n",
       " 0.10341337596762847: 'vme',\n",
       " 0.39788387243778106: '147',\n",
       " 0.0688234737211262: 'turbo_f',\n",
       " 0.016629089046892948: 'ncsc',\n",
       " 0.44352921356565556: '14853',\n",
       " 0.0985551731194711: 'ds1489n',\n",
       " 0.10549965829234055: '149',\n",
       " 0.050780142283887005: 'itoh',\n",
       " 7.60507645669107: '15',\n",
       " 1.2429466348602412: '150',\n",
       " 0.4129557238304493: '1500',\n",
       " 0.2810990400615758: 'nanna',\n",
       " 0.12163457097718493: 'kops',\n",
       " 0.09713494316440399: 'motions',\n",
       " 0.10403211149947982: 'wonky',\n",
       " 0.1883696805496995: 'thumbs',\n",
       " 0.29994393633436706: '150mhz',\n",
       " 0.12827154400804236: 'spm',\n",
       " 0.19174071771814638: 'trlh',\n",
       " 0.939069507248856: '151',\n",
       " 0.1411972901229154: 'nead',\n",
       " 0.33433659865183446: '7183',\n",
       " 0.15408445591041894: '152',\n",
       " 0.11694494847129844: 'unforgivable',\n",
       " 0.4011221354709331: '153',\n",
       " 0.10315981776012438: 'wpa',\n",
       " 0.10142266995216308: 'sluggo',\n",
       " 0.13482750371571178: 'warrenty',\n",
       " 0.07477263244182082: '4125',\n",
       " 0.0888897960822157: 'peora',\n",
       " 0.07586500215163593: 'warford',\n",
       " 0.15720271569710903: '2514',\n",
       " 0.10948554080025885: 'pounce',\n",
       " 0.18124845920832441: '589',\n",
       " 0.17596045831363596: 'dtmb',\n",
       " 0.1810376899833307: 'trader',\n",
       " 0.12698545801300748: '28595',\n",
       " 0.3680316735841325: '155',\n",
       " 0.0718948975256316: 'tuchuses',\n",
       " 0.2317426951907194: '156',\n",
       " 0.06625279802263495: '157',\n",
       " 0.2589715629971826: '158',\n",
       " 0.01573942942220277: 'stripper',\n",
       " 0.19691499361077974: 'mazda',\n",
       " 0.16128283230843876: 'jc7j',\n",
       " 0.09837543032346072: 'ticking',\n",
       " 0.19218485166360738: '15mhz',\n",
       " 0.28440048049428174: '15mph',\n",
       " 0.07356077413416855: 'zitt',\n",
       " 0.04099460921591842: 'theatre',\n",
       " 0.1506174874511711: 'upei',\n",
       " 0.08882090096821355: 'xlrs',\n",
       " 6.860599132031713: '16',\n",
       " 0.33379058010470897: '160',\n",
       " 0.211842443685456: 'ni',\n",
       " 0.1472547183438976: 'weekends',\n",
       " 0.12013034546719553: 'rvs',\n",
       " 0.821165350788102: 'inquiring',\n",
       " 0.18553190716080892: 'infuriates',\n",
       " 0.16584937259442228: 'glib',\n",
       " 0.18437537976514728: 'spoiled',\n",
       " 0.4156659285369912: '161',\n",
       " 0.10520758237141997: 'nit',\n",
       " 0.11403346357220769: 'ttinews',\n",
       " 0.04932419697421508: 'telegraph',\n",
       " 0.21635864405058625: 'lrr105',\n",
       " 0.46709095684026714: '163',\n",
       " 0.3612881328112581: '17074',\n",
       " 0.2059664861412991: 'po5',\n",
       " 0.0998163582303446: 'tigger',\n",
       " 0.1089062848513454: 'showin',\n",
       " 0.07901323533088843: 'zlau',\n",
       " 0.11374007292615333: 'qualfications',\n",
       " 0.158885799726516: '164',\n",
       " 0.24645607356631943: '164644',\n",
       " 0.1498570857152634: '18206',\n",
       " 0.07997950715184131: 'unpatentable',\n",
       " 0.28926200846457195: 'flank',\n",
       " 0.0769132975872952: 'jena',\n",
       " 0.08878300329659118: '167',\n",
       " 0.2559478402113543: '4443',\n",
       " 0.11168632844419168: '168',\n",
       " 0.0737655614142111: 'lim',\n",
       " 0.1548469495496229: 'witchcraft',\n",
       " 0.22141845992019427: '16apr199323531467',\n",
       " 0.1544115996154429: 'viewsonic',\n",
       " 0.08547693982761496: 'mutilated',\n",
       " 0.1440885249252048: '16f',\n",
       " 0.1763254195014472: '16g',\n",
       " 0.08345727522421158: 'winnebago',\n",
       " 0.09064137777078728: 'westboro',\n",
       " 0.06440459857650105: 'wpg',\n",
       " 0.0717555243430275: '16th',\n",
       " 5.660295699339262: '17',\n",
       " 0.11391858691758894: 'variac',\n",
       " 0.15234042685166102: 'usfmctmf',\n",
       " 0.1274933874426479: 'gs850l',\n",
       " 0.0778090548409165: 'troubleshoot',\n",
       " 0.023270371981046586: '171',\n",
       " 0.09461378661108673: '5772',\n",
       " 0.15487143852619667: '171704',\n",
       " 0.08359941625168642: 'queensryche',\n",
       " 0.09089571186328524: '172',\n",
       " 0.30938355704421294: '27458',\n",
       " 0.08616691125973588: 'turnsignal',\n",
       " 0.11057832124450954: 'rkga',\n",
       " 0.19365646274184156: '9793',\n",
       " 0.08482512159490295: 'weekdays',\n",
       " 0.13388659623849797: 'jarvis',\n",
       " 0.07586736547367226: 'microfine',\n",
       " 0.012886919388784208: 'volumetric',\n",
       " 0.22520562900046706: '1740',\n",
       " 0.1261405479331312: 'wdc',\n",
       " 0.3771798082864974: '175',\n",
       " 0.10024198956828619: 'flaw',\n",
       " 0.10444722903204255: 'yaw',\n",
       " 0.11264673785886947: 'unreachable',\n",
       " 0.09931135770475877: 'walkthrough',\n",
       " 0.08279731115011152: '178',\n",
       " 0.08767779421512717: 'waldensoftware',\n",
       " 0.08036105859207206: 'vishnepolsky',\n",
       " 0.11953831148655138: 'mate',\n",
       " 0.06437004262018738: '17th',\n",
       " 6.007332042189924: '18',\n",
       " 0.15522181167898425: '180',\n",
       " 1.0032766914255098: '1800',\n",
       " 0.37985117233194626: '25263',\n",
       " 0.11960453714035531: '1810',\n",
       " 0.16752628613583914: 'varda',\n",
       " 0.11362725169907269: '1815',\n",
       " 0.09129632791224054: 'thursdays',\n",
       " 0.09337347082446688: 'bmers95',\n",
       " 0.17107851593698262: '182',\n",
       " 0.07837078536365363: '28603',\n",
       " 0.19119738711751716: 'calulated',\n",
       " 0.09522171045527429: 'theer',\n",
       " 0.17093194723232943: '23410',\n",
       " 0.09716360212213078: '183',\n",
       " 0.1062653240203035: 'manocha',\n",
       " 0.11505647544171221: 'rohde',\n",
       " 0.0837375959351379: 'xmemory',\n",
       " 0.2080594562630983: '1834',\n",
       " 0.11678862704692042: '18744',\n",
       " 0.07868901069872955: 'tcsi',\n",
       " 0.10067397102624684: 'surroundings',\n",
       " 0.4080972778890556: 'fssnoc',\n",
       " 0.10917545688867336: 'ussell',\n",
       " 0.04881742716204248: 'unlock',\n",
       " 0.09987167577199345: 'tranny',\n",
       " 0.19486263631919853: '9830',\n",
       " 0.6186165808962972: '187',\n",
       " 0.4229684682797519: '188',\n",
       " 0.09830087045730525: 'posessing',\n",
       " 0.11355112552985629: 'oughta',\n",
       " 0.08038507224162508: '189',\n",
       " 0.26631190662263854: '1890',\n",
       " 0.15664065376085934: '2bd07605',\n",
       " 0.1533618414865585: 'bethdc5juzw',\n",
       " 0.15731630231815044: '18th',\n",
       " 5.607608821890043: '19',\n",
       " 0.22212767500614045: 'hotter',\n",
       " 0.1446483949531729: 'vermont',\n",
       " 0.16652919023879226: 'dearth',\n",
       " 0.2703023956424288: 'moyne',\n",
       " 0.08592348573981345: '190493113153',\n",
       " 0.0518569337820272: 'uninitiated',\n",
       " 0.5623999734284322: '1919',\n",
       " 0.6784891509283975: '192',\n",
       " 0.08748841715752739: 'feltham',\n",
       " 0.38986070310489773: '3314',\n",
       " 0.08585011530186358: 'tuner',\n",
       " 0.15875805432196322: 'sfbac',\n",
       " 0.0792506131106892: 'tessellations',\n",
       " 0.06732186177467316: 'chnews',\n",
       " 0.7362049012998535: '1934',\n",
       " 0.12686616396792563: 'xprism3',\n",
       " 0.18515290883808616: '8569',\n",
       " 0.15446417455007583: '93apr20',\n",
       " 0.021572449169704626: 'juan',\n",
       " 0.09214027654725217: '741a',\n",
       " 0.14584603067645627: 'wonderfully',\n",
       " 0.11466101393251418: '3888',\n",
       " 0.10231670802816724: 'uncalled',\n",
       " 0.11228570232852483: 'jumbo',\n",
       " 0.08189130012168788: '195',\n",
       " 0.10819649833863869: 'toolbox',\n",
       " 0.10291251157520231: 'tunable',\n",
       " 0.2201891891304334: '195116',\n",
       " 1.0627254597287292: '1958',\n",
       " 0.14280519326280286: '196',\n",
       " 0.19091680327879862: '1960',\n",
       " 0.36091621391427475: '1963',\n",
       " 0.11112551299796548: 'brightest',\n",
       " 0.3050060361951467: '1969',\n",
       " 0.2539791525362764: '197',\n",
       " 0.4044216369065459: '1972',\n",
       " 0.18276785624970138: '1974',\n",
       " 1.4327081137088666: '1975',\n",
       " 0.5094850684115367: '1976',\n",
       " 0.41345845908183576: '1977',\n",
       " 0.28623449579898935: '1978',\n",
       " 0.054122580170678246: 'stinkin',\n",
       " 0.5692075859838924: '1979',\n",
       " 0.43183859596651375: '1980',\n",
       " 0.5904261554646473: '1981',\n",
       " 1.3973500452137726: '1982',\n",
       " 1.7918665859797096: '1983',\n",
       " 0.6323674708523827: '1984',\n",
       " 0.7219225476275676: '1985',\n",
       " 0.4859837320886676: '1986',\n",
       " 0.6169172848363892: '1987',\n",
       " 1.3604121162414484: '1988',\n",
       " 1.09266450424241: '1989',\n",
       " 0.28500230707059604: '199',\n",
       " 1.1731211483139736: '1990',\n",
       " 1.7961607972042941: '1991',\n",
       " 1.5866764400577098: '1992',\n",
       " 3.9638360566942548: '1993',\n",
       " 0.6122316785920288: 'jmichael',\n",
       " 0.3266375792686763: '1993apr06',\n",
       " 0.4556715664400175: '1993apr1',\n",
       " 0.2988354632068326: '1993apr12',\n",
       " 0.5671533585557245: '1993apr13',\n",
       " 2.4152217127161637: '1993apr14',\n",
       " 3.9097339213307754: '1993apr15',\n",
       " 1.1280386407102652: '1993apr16',\n",
       " 0.9760995634492026: '1993apr17',\n",
       " 0.39203767318081795: '1993apr18',\n",
       " 2.473554240793292: '1993apr19',\n",
       " 1.4083230759978103: '1993apr2',\n",
       " 2.112404868659417: '1993apr20',\n",
       " 0.7389644783863186: '1993apr21',\n",
       " 0.35148999416891596: '1993apr22',\n",
       " 0.24847504956453115: '1993apr23',\n",
       " 0.62817344795779: '1993apr3',\n",
       " 0.27911995963889896: '1993apr4',\n",
       " 1.5371680227392526: '1993apr5',\n",
       " 2.3572290829301474: '1993apr6',\n",
       " 0.22859245377002518: '1993apr8',\n",
       " 0.2602371662324742: '1993apr9',\n",
       " 0.12212682546091466: '1993mar17',\n",
       " 0.17731296004260283: '1993mar24',\n",
       " 0.08227272018700657: 'storkish',\n",
       " 0.16328240249558773: 'rearsets',\n",
       " 0.2874550049277862: '1993mar31',\n",
       " 0.3778229934644061: 'suzuki550',\n",
       " 0.16679404143164722: '1999',\n",
       " 0.12598298519537157: 'c5uc68',\n",
       " 0.09622237584177197: '19th',\n",
       " 0.8474097094163474: '1a',\n",
       " 0.048669710578140436: 'trapezoids',\n",
       " 0.15674791544742267: 'zenchelsky',\n",
       " 0.20701415740014772: 'compinations',\n",
       " 0.05218303506405936: 'subj',\n",
       " 0.12895689517627973: '1d',\n",
       " 0.13329988866888243: '1d20',\n",
       " 0.6856586077755712: 'persian',\n",
       " 0.1540862160619319: 'bcarm41a',\n",
       " 0.1208425039935969: 'programm',\n",
       " 0.23636293816726217: '1hr',\n",
       " 0.08522299411621881: 'c5lerr',\n",
       " 0.2699086009716465: '1k',\n",
       " 0.18927344148027578: '1khz',\n",
       " 0.16896520430232978: 'tr6',\n",
       " 0.46452717341787847: '1kspt',\n",
       " 0.2694293764876484: 'c5scgu',\n",
       " 0.260504142019293: '1m',\n",
       " 0.5650654853502433: '1mb',\n",
       " 0.10653442642846465: 'zabriskie',\n",
       " 0.061331348441426424: 'votre',\n",
       " 0.08248033069807495: 'repairable',\n",
       " 0.09504142325218205: 'explaind',\n",
       " 0.092261127637343: 'yuppies',\n",
       " 0.1747075798902677: 'wealthy',\n",
       " 0.41761131552746: '1pkveuinnduk',\n",
       " 0.1322851566891316: 'maxcount',\n",
       " 0.10847555626826401: 'withdrawl',\n",
       " 0.12256908473755287: 'wdh',\n",
       " 0.09201170798718321: 'streetmap',\n",
       " 0.11058807256540441: 'reconsider',\n",
       " 0.12637638283329108: 'powerusersgroupchairman',\n",
       " 0.2033020399212019: 'tatoo',\n",
       " 0.1796490478880836: '1ppvds',\n",
       " 0.18871683079314866: 'k5i',\n",
       " 0.0948111423227999: 'tissue',\n",
       " 0.0826561408634213: 'wherein',\n",
       " 0.20525189402021138: 'rebuilt',\n",
       " 0.12100113029241825: 'xl100',\n",
       " 0.1782221419065784: 'logisitics',\n",
       " 0.12659348031243245: 'uniwa',\n",
       " 0.2094929079700084: 'pmu',\n",
       " 0.07762135500665365: 'wirewrapped',\n",
       " 0.09875100404737665: 'stingy',\n",
       " 0.11400798021487786: 'stereogram',\n",
       " 0.24817557375303406: 'hvl',\n",
       " 0.21019527537929622: 'pietrowicz',\n",
       " 0.07620208697630974: 'vans',\n",
       " 0.11074901273837612: 'piggyback',\n",
       " 0.08242581527103478: 'oscillations',\n",
       " 0.2426585082821161: 'werple',\n",
       " 0.1580919969940161: 'wintz',\n",
       " 0.08311071692525242: 'warmer',\n",
       " 0.09672267271981339: 'sx',\n",
       " 0.10104341781532679: 'instinctively',\n",
       " 0.041673355180374176: 'wetbike',\n",
       " 0.23445864334689875: 'uafhp',\n",
       " 0.1329103391701431: 'sturde',\n",
       " 0.2016392875901436: '1qegpf',\n",
       " 0.06460823013624563: 'zucchini',\n",
       " 0.09973702895560357: 'jersey',\n",
       " 0.11227369885510387: 'mtb',\n",
       " 0.10606560772206325: 're1',\n",
       " 0.20541749916064334: 'sheoak',\n",
       " 0.15675120958010025: 'et9',\n",
       " 0.15984117100948714: '1qhm02',\n",
       " 0.03551857808948824: 'synonyms',\n",
       " 0.0897678934843237: 'wyle',\n",
       " 0.16872530183002882: '1qjmf6',\n",
       " 0.1385131275326126: '1qjn7i',\n",
       " 0.04293082773939641: 'whoever',\n",
       " 0.10788988565652807: 'lust',\n",
       " 0.10223491316790224: 'st1100s',\n",
       " 0.21580327455215553: 'qos',\n",
       " 0.23260321553449376: '1qk5oi',\n",
       " 0.12453436062097194: 'resync',\n",
       " 0.06848410857058768: 'vfr700',\n",
       " 0.10171244891858605: '1qkcvo',\n",
       " 0.26555567443451666: '1qkgbuinns9n',\n",
       " 0.1053346106956673: 'uncrated',\n",
       " 0.17676295273385748: 'resign',\n",
       " 0.1076784134365848: 'keyhole',\n",
       " 0.12929469580453654: 'zklf0b',\n",
       " 0.29111532775278065: 'sequoia',\n",
       " 0.20162246273838375: 'tuegate',\n",
       " 0.15222974999692207: '1qmetg',\n",
       " 0.12030849619439755: '1qmi34',\n",
       " 0.16810761055037882: 'sdl',\n",
       " 0.19011066051065417: 'tnds',\n",
       " 0.0800877114911945: 's9q',\n",
       " 0.0837177528929649: 'toast',\n",
       " 0.10586783164995299: 'braindead',\n",
       " 0.16130043068319871: '1qngqlinnnp8',\n",
       " 0.08949138466751932: 'dismissed',\n",
       " 0.08885567290016924: 'willson',\n",
       " 0.1269491461524705: 'footpath',\n",
       " 0.10642620276350313: 'zrz',\n",
       " 0.09026214133360892: 'tutor51',\n",
       " 0.1303697879481645: 'stroking',\n",
       " 0.11653247923675024: 'sucker',\n",
       " 0.24271796686406022: 'kh7',\n",
       " 0.08583359955238523: 'techs',\n",
       " 0.1104924250508419: 'rtfb',\n",
       " 0.6888385605079758: '1quvdoinn3e7',\n",
       " 0.1747352670412427: '1qvkaeinngat',\n",
       " 0.12542112785864634: '1qvlmainnhuu',\n",
       " 0.11053817245142054: 'r4t',\n",
       " 0.09076689009334521: '1r0b69inn5ct',\n",
       " 0.1501542311072571: 'uninett',\n",
       " 0.14953669531946578: 'torch',\n",
       " 0.23108800063814305: 'dpa',\n",
       " 0.054128544091480144: 'summed',\n",
       " 0.06107146442545376: 'joyriders',\n",
       " 0.21830993308585983: '1r1cqiinnje8',\n",
       " 0.14645466111600236: 'lookit',\n",
       " 0.10462016735584233: 'whitted',\n",
       " 0.16398594280030176: 'xrcjd',\n",
       " 0.16913000710364998: '1r49iainnc3k',\n",
       " 0.11783403945824798: 'butted',\n",
       " 0.04115381165939873: 'spits',\n",
       " 0.06304944784410242: 'rj2',\n",
       " 0.13424294046192461: 'expandibilty',\n",
       " 0.10085359720343477: 'postet',\n",
       " 0.07588284546152724: 'k66',\n",
       " 0.13064696035475074: 'abstractsoft',\n",
       " 0.16612731167146466: '1rfsqbinnc2p',\n",
       " 0.12468372832871569: '1rft1ninnc7s',\n",
       " 0.08747618098490978: 'verrrrrry',\n",
       " 0.9370333749521811: '1st',\n",
       " 0.1799303264986738: 'ina103',\n",
       " 0.0819619681396338: 'optoisolater',\n",
       " 0.0946700350798337: 'suffix',\n",
       " 0.23794439113342242: '1v',\n",
       " 0.09397941419030174: 'wil',\n",
       " 0.20555865853547378: '1w',\n",
       " 0.12915121561473103: '1x',\n",
       " 7.188310888174773: '20',\n",
       " 2.7584932886616786: '200',\n",
       " 0.697147647348878: '2000',\n",
       " 0.13872481755049698: '7apr93',\n",
       " 0.13211050064211746: 'yates',\n",
       " 0.07994096298835875: '200493102833',\n",
       " 0.07916354698773165: 'stoppy',\n",
       " 0.1525804615657657: 'stacking',\n",
       " 0.10581101445177887: 'trousers',\n",
       " 0.24721470696503978: 'warfare',\n",
       " 0.18596242879047786: 'winsurfing',\n",
       " 0.17196698907094032: '200mhz',\n",
       " 0.0845474330084224: 'zipping',\n",
       " 0.3930697355409809: '200ths',\n",
       " 0.14277024546453534: 'ubiquitous',\n",
       " 0.08884498599333018: 'mvp',\n",
       " 0.25836379384709635: '201',\n",
       " 0.18864423315305362: '3of9',\n",
       " 0.1606111464411639: 'rrz',\n",
       " 0.17768997198666037: 'synthesizer',\n",
       " 0.2896176074586132: '2024',\n",
       " 0.11668919010222026: 'tigard',\n",
       " 0.16191094827496896: '240282',\n",
       " 0.1374924223005625: 'wackos',\n",
       " 0.7771796945032527: '203',\n",
       " 0.3547819882554442: '20841',\n",
       " 0.8580226616596472: '204',\n",
       " 0.17383934657945782: '5753',\n",
       " 0.2262326946791164: 'minis',\n",
       " 0.08387761719495743: 'vs100',\n",
       " 2.082057905455642: '205',\n",
       " 0.36409587075656435: 'hanrahan',\n",
       " 1.229871108593907: '206',\n",
       " 0.3891150705679296: '207',\n",
       " 0.06443860960821798: 'x4895',\n",
       " 0.5595879312297692: '2bd16dea',\n",
       " 0.09427482048797926: '208',\n",
       " 0.007869714711101384: 'ulc',\n",
       " 0.4256367988188536: '209',\n",
       " 0.33857125189862874: 'nrk',\n",
       " 0.12992607139765136: 'vesuvius',\n",
       " 0.1942873807978832: 'deciacco',\n",
       " 0.22893323134975124: '20hz',\n",
       " 0.13336172605477697: '20k',\n",
       " 0.09628953046252552: 'faraday',\n",
       " 0.5407449112549217: '20ma',\n",
       " 0.3880665698385164: '20mhz',\n",
       " 0.06751922920967818: 'qfp',\n",
       " 0.16627662253445985: 'steak',\n",
       " 0.15343503258010283: '20th',\n",
       " 0.1471215482683371: 'zitterkopf',\n",
       " 5.343906298135644: '21',\n",
       " 0.44391878824702463: '210',\n",
       " 0.3300864413439034: 'brookpark',\n",
       " 0.16568236749432888: 'willow',\n",
       " 0.10254319544566545: 'zbuffering',\n",
       " 0.3784942510091548: '8983',\n",
       " 0.5151634712835247: '211',\n",
       " 0.07865785509111657: 'wins',\n",
       " 0.08297842322437253: 'ukl100',\n",
       " 0.08445797733983203: '2112',\n",
       " 0.4730947647212955: '211353',\n",
       " 1.1137060770065492: '212',\n",
       " 0.2569770390254056: '2120',\n",
       " 0.1419742482864989: '34125',\n",
       " 0.08477789039018171: 'woodard',\n",
       " 0.11552053261448186: 'squirming',\n",
       " 0.29201887343991156: '213',\n",
       " 0.16981807932257428: 'ste',\n",
       " 0.10199282359928454: 'triacus',\n",
       " 0.6696141337944397: '214',\n",
       " 0.3199421553813253: '2147',\n",
       " 0.11248963688942745: 'quantify',\n",
       " 0.5032340343277455: '215',\n",
       " 0.06486081631261627: '2150',\n",
       " 1.3597798632910558: '216',\n",
       " 0.2179731056428981: 'davec',\n",
       " 0.2254361192753015: '217',\n",
       " 0.09551785304495101: 'ms475',\n",
       " 0.0652266752917189: 'venting',\n",
       " 0.14509905691520442: 'lds',\n",
       " 0.08696023989882805: 'tenting',\n",
       " 0.26645167340292464: '231050',\n",
       " 0.1623762082333114: '2197',\n",
       " 4.232390376029479: '22',\n",
       " 1.1419894694612922: '220',\n",
       " 0.32291631417642874: '2200',\n",
       " 0.3325532450689197: '2200lbs',\n",
       " 0.23751352309383428: '2204',\n",
       " 0.07872639895360609: 'correlation',\n",
       " 0.17170508762863096: '5000x2659',\n",
       " 0.083352752802387: 'ipxs',\n",
       " 0.14377413931925498: '220v',\n",
       " 0.36915190306968304: '221',\n",
       " 0.05165368805787437: 'moot',\n",
       " 0.11984271091209996: 'objected',\n",
       " 0.08408239663543929: 'saar',\n",
       " 0.09872302610762124: 'incand',\n",
       " 0.09050941509712379: '2222',\n",
       " 0.572936359504208: '222224',\n",
       " 0.09413910375484269: 'weatherman',\n",
       " 0.2803294181956106: '222834',\n",
       " 0.24694377997205885: '223',\n",
       " 0.23595449474304286: 'weapon',\n",
       " 0.08910033900735656: 'russellville',\n",
       " 0.24833775196757213: '224',\n",
       " 0.1308147046708665: 'timebase',\n",
       " ...}"
      ]
     },
     "execution_count": 53,
     "metadata": {},
     "output_type": "execute_result"
    }
   ],
   "source": [
    "dic = dict(zip(data_fit.toarray().sum(axis=0), vectorizer.get_feature_names()))\n",
    "dic"
   ]
  },
  {
   "cell_type": "code",
   "execution_count": 45,
   "metadata": {},
   "outputs": [],
   "source": [
    "def q7():\n",
    "    return round(data_fit[:, word_list].sum(), 3)"
   ]
  },
  {
   "cell_type": "code",
   "execution_count": 46,
   "metadata": {
    "scrolled": true
   },
   "outputs": [
    {
     "data": {
      "text/plain": [
       "8.888"
      ]
     },
     "execution_count": 46,
     "metadata": {},
     "output_type": "execute_result"
    }
   ],
   "source": [
    "q7()"
   ]
  },
  {
   "cell_type": "markdown",
   "metadata": {},
   "source": [
    "https://scikit-learn.org/stable/tutorial/text_analytics/working_with_text_data.html"
   ]
  }
 ],
 "metadata": {
  "kernelspec": {
   "display_name": "Python 3",
   "language": "python",
   "name": "python3"
  },
  "language_info": {
   "codemirror_mode": {
    "name": "ipython",
    "version": 3
   },
   "file_extension": ".py",
   "mimetype": "text/x-python",
   "name": "python",
   "nbconvert_exporter": "python",
   "pygments_lexer": "ipython3",
   "version": "3.6.4"
  }
 },
 "nbformat": 4,
 "nbformat_minor": 2
}
